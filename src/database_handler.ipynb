{
 "cells": [
  {
   "cell_type": "code",
   "execution_count": 4,
   "metadata": {},
   "outputs": [],
   "source": [
    "from pymongo import MongoClient\n",
    "\n",
    "def __init__(self):\n",
    "    self.client = MongoClient('localhost', 27017)\n",
    "    self.connector = self.client['jobAdDB']\n",
    "\n",
    "def createDictionary(self, name):\n",
    "    self.mydb = self.client[name]\n",
    "    return\n",
    "     \n",
    "def insertDataIntoDictionary(self, data):\n",
    "    return"
   ]
  }
 ],
 "metadata": {
  "interpreter": {
   "hash": "8d40e36e7bb790554a55ec48c8df0d607bce49ede120479d7ccb8bf89d74e1e6"
  },
  "kernelspec": {
   "display_name": "Python 3.10.0 64-bit ('3.10.0': pyenv)",
   "language": "python",
   "name": "python3"
  },
  "language_info": {
   "codemirror_mode": {
    "name": "ipython",
    "version": 3
   },
   "file_extension": ".py",
   "mimetype": "text/x-python",
   "name": "python",
   "nbconvert_exporter": "python",
   "pygments_lexer": "ipython3",
   "version": "3.10.0"
  },
  "orig_nbformat": 4
 },
 "nbformat": 4,
 "nbformat_minor": 2
}
