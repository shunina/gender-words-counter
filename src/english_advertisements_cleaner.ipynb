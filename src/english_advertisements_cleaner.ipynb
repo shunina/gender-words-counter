{
 "cells": [
  {
   "cell_type": "code",
   "execution_count": 10,
   "metadata": {},
   "outputs": [],
   "source": [
    "import pandas as pd\n",
    "import json\n",
    "import re"
   ]
  },
  {
   "cell_type": "code",
   "execution_count": 50,
   "metadata": {},
   "outputs": [],
   "source": [
    "keywords = {\n",
    "        \"beautician\" : [\"beautician\", \"beauty\"],\n",
    "        \"electrician\" : [\"electrician\", \"electricity\"],\n",
    "        \"carpenter\" : [\"carpenter\"],\n",
    "        \"nurse\" : [\"nurse\", \"hospital\"],\n",
    "        \"pharmacist\" : [\"pharmacist\", \"medicine\"],\n",
    "        \"receptionist\" : [\"receptionist\", \"reception\"],\n",
    "        \"security_guard\" : [\"secuirty\", \"guard\"],\n",
    "        \"software_engineer\" : [\"software\", \"engineer\"],\n",
    "    }"
   ]
  },
  {
   "cell_type": "code",
   "execution_count": 51,
   "metadata": {},
   "outputs": [],
   "source": [
    "# Count the number of gendered words in each job advertisement\n",
    "dataDirectory = './data/job_advertisements/en/'\n",
    "wikiJobData = json.load(open('./data/job_advertisements/en/wikijob/wikijob.json', 'r'))\n",
    "cleanedDataDictionary = './data/job_advertisements/en/cleaned/'\n",
    "\n",
    "occupations = list(keywords)\n",
    "for occupation in occupations:\n",
    "    df = pd.DataFrame(index=[], columns=['all_sentences'])\n",
    "    jsonOpen = open(dataDirectory + occupation + '.json', 'r')\n",
    "    jobAdvertisements = json.load(jsonOpen)\n",
    "    getIndex = 1\n",
    "    dfIndex = 1\n",
    "    for jobAdvertisement in jobAdvertisements:\n",
    "        if jobAdvertisement.get(str(getIndex)):\n",
    "            if jobAdvertisement[str(getIndex)]['title'] is None or jobAdvertisement[str(getIndex)]['description'] is None:\n",
    "                getIndex += 1\n",
    "                continue\n",
    "            cleaned_title = re.sub(' +', ' ', jobAdvertisement[str(getIndex)]['title'].replace('\\n','').replace('(',' ').replace(',',' ').replace('-',' ').replace(')',' ').strip().lower())\n",
    "            cleaned_description = re.sub(' +', ' ', jobAdvertisement[str(getIndex)]['description'].replace('\\n','').replace('(',' ').replace(',',' ').replace('-',' ').replace(')',' ').strip().lower())\n",
    "            all_sentences =  cleaned_title + ' ' + cleaned_description\n",
    "\n",
    "            validateFlug = False\n",
    "            for keyword in keywords.get(occupation):\n",
    "                if keyword in all_sentences:\n",
    "                    validateFlug = True\n",
    "            if validateFlug:\n",
    "                record = pd.DataFrame({\n",
    "                    'all_sentences': all_sentences\n",
    "                }, index=[str(dfIndex)])\n",
    "                df = pd.concat([df, record])\n",
    "                dfIndex += 1\n",
    "        getIndex += 1\n",
    "    \n",
    "    getIndex = 1\n",
    "    for wikiJobAdvertisement in wikiJobData:\n",
    "        if wikiJobAdvertisement.get(str(getIndex)) and wikiJobAdvertisement[str(getIndex)]['occupation'] == occupation:\n",
    "            if wikiJobAdvertisement[str(getIndex)]['title'] is None or wikiJobAdvertisement[str(getIndex)]['description'] is None :\n",
    "                continue\n",
    "            cleaned_title = re.sub(' +', ' ', wikiJobAdvertisement[str(getIndex)]['title'].replace('\\n','').replace('(',' ').replace(',',' ').replace('-',' ').replace(')',' ').strip().lower())\n",
    "            cleaned_description = re.sub(' +', ' ', wikiJobAdvertisement[str(getIndex)]['description'].replace('\\n','').replace('(',' ').replace(',',' ').replace('-',' ').replace(')',' ').strip().lower())\n",
    "            all_sentences =  cleaned_title + ' ' + cleaned_description\n",
    "            \n",
    "            validateFlug = False\n",
    "            for keyword in keywords.get(occupation):\n",
    "                if keyword in cleaned_title:\n",
    "                    validateFlug = True\n",
    "                    break\n",
    "            if validateFlug:\n",
    "                record = pd.DataFrame({\n",
    "                    'all_sentences': all_sentences\n",
    "                }, index=[str(dfIndex)])\n",
    "                df = pd.concat([df, record])\n",
    "                dfIndex += 1\n",
    "        getIndex += 1\n",
    "    \n",
    "    df.to_json(cleanedDataDictionary + occupation + '.json', force_ascii=False, orient = 'records')\n"
   ]
  }
 ],
 "metadata": {
  "interpreter": {
   "hash": "8d40e36e7bb790554a55ec48c8df0d607bce49ede120479d7ccb8bf89d74e1e6"
  },
  "kernelspec": {
   "display_name": "Python 3.10.0 64-bit ('3.10.0')",
   "language": "python",
   "name": "python3"
  },
  "language_info": {
   "codemirror_mode": {
    "name": "ipython",
    "version": 3
   },
   "file_extension": ".py",
   "mimetype": "text/x-python",
   "name": "python",
   "nbconvert_exporter": "python",
   "pygments_lexer": "ipython3",
   "version": "3.10.0"
  },
  "orig_nbformat": 4
 },
 "nbformat": 4,
 "nbformat_minor": 2
}
