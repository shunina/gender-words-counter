{
 "cells": [
  {
   "cell_type": "code",
   "execution_count": 8,
   "metadata": {},
   "outputs": [],
   "source": [
    "import pandas as pd\n",
    "import json\n",
    "import neologdn\n",
    "import unicodedata"
   ]
  },
  {
   "cell_type": "code",
   "execution_count": 13,
   "metadata": {},
   "outputs": [
    {
     "name": "stdout",
     "output_type": "stream",
     "text": [
      "['美容']\n"
     ]
    }
   ],
   "source": [
    "keywords = {\n",
    "        \"beautician\" : [\"beautician\", \"beauty\"],\n",
    "        \"electrician\" : [\"electrician\", \"electricy\"],\n",
    "        \"driver\" : [\"driver\", \"drive\"],\n",
    "        \"childminder\" : [\"child\", \"childminder\"],\n",
    "        \"carpentor\" : [\"carpentor\", \"house\"],\n",
    "        \"nurse\" : [\"nurse\", \"hospital\"],\n",
    "        \"pharmacist\" : [\"pharmacist\", \"medicine\"],\n",
    "        \"receptionist\" : [\"receptionist\"],\n",
    "        \"security_guard\" : [\"secuirty\", \"guard\"],\n",
    "        \"software_engineer\" : [\"software\", \"engineer\"],\n",
    "    }"
   ]
  },
  {
   "cell_type": "code",
   "execution_count": 29,
   "metadata": {},
   "outputs": [],
   "source": [
    "# Count the number of gendered words in each job advertisement\n",
    "dataDirectory = './data/job_advertisements/ja/'\n",
    "cleanedDataDictionary = './data/job_advertisements/ja/cleaned/'\n",
    "\n",
    "occupations = list(keywords)\n",
    "for occupation in occupations:\n",
    "    df = pd.DataFrame(index=[], columns=['all_sentences'])\n",
    "    \n",
    "    jsonOpen = open(dataDirectory + occupation + '.json', 'r')\n",
    "    jobAdvertisements = json.load(jsonOpen)\n",
    "    getIndex = 1\n",
    "    dfIndex = 1\n",
    "    for jobAdvertisement in jobAdvertisements:\n",
    "        if jobAdvertisement.get(str(getIndex)):\n",
    "            cleaned_title = neologdn.normalize(unicodedata.normalize(\"NFKC\", jobAdvertisement[str(getIndex)]['title'].replace('\\n', '').replace(' ', '').replace('　', ''))).lower()\n",
    "            cleaned_summary = neologdn.normalize(unicodedata.normalize(\"NFKC\", jobAdvertisement[str(getIndex)]['description_summary'].replace('\\n', '').replace(' ', '').replace('　', ''))).lower()\n",
    "            cleaned_detail = neologdn.normalize(unicodedata.normalize(\"NFKC\", jobAdvertisement[str(getIndex)]['description_detail'].replace('\\n', '').replace(' ', '').replace('　', ''))).lower()\n",
    "            cleaned_desired_person = neologdn.normalize(unicodedata.normalize(\"NFKC\", jobAdvertisement[str(getIndex)]['desired_person'].replace('\\n', '').replace(' ', '').replace('　', ''))).lower()\n",
    "            all_sentences =  cleaned_title + ' ' + cleaned_summary + ' ' + cleaned_detail + ' ' + cleaned_desired_person\n",
    "\n",
    "            validateFlug = False\n",
    "            for keyword in keywords.get(occupation):\n",
    "                if keyword in all_sentences:\n",
    "                    validateFlug = True\n",
    "                    break\n",
    "            if validateFlug:\n",
    "                record = pd.DataFrame({\n",
    "                    'all_sentences': all_sentences\n",
    "                }, index=[str(dfIndex)])\n",
    "                df = pd.concat([df, record])\n",
    "                dfIndex += 1\n",
    "        getIndex += 1\n",
    "    \n",
    "    df.to_json(cleanedDataDictionary + occupation + '.json', force_ascii=False, orient = 'records')\n"
   ]
  }
 ],
 "metadata": {
  "interpreter": {
   "hash": "8d40e36e7bb790554a55ec48c8df0d607bce49ede120479d7ccb8bf89d74e1e6"
  },
  "kernelspec": {
   "display_name": "Python 3.10.0 64-bit ('3.10.0')",
   "language": "python",
   "name": "python3"
  },
  "language_info": {
   "codemirror_mode": {
    "name": "ipython",
    "version": 3
   },
   "file_extension": ".py",
   "mimetype": "text/x-python",
   "name": "python",
   "nbconvert_exporter": "python",
   "pygments_lexer": "ipython3",
   "version": "3.10.0"
  },
  "orig_nbformat": 4
 },
 "nbformat": 4,
 "nbformat_minor": 2
}
