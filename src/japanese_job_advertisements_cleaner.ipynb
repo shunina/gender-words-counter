{
 "cells": [
  {
   "cell_type": "code",
   "execution_count": 2,
   "metadata": {},
   "outputs": [],
   "source": [
    "import pandas as pd\n",
    "import json\n",
    "import neologdn\n",
    "import unicodedata"
   ]
  },
  {
   "cell_type": "code",
   "execution_count": 6,
   "metadata": {},
   "outputs": [],
   "source": [
    "# keywords either of which must be included in the job advertisements per occupation\n",
    "keywords = {\n",
    "        \"beautician\" : [\"美容\", \"サロン\"],\n",
    "        \"electrician\" : [\"電気\", \"機械\"],\n",
    "        \"carpenter\" : [\"大工\", \"建築\"],\n",
    "        \"nurse\" : [\"看護\", \"病院\"],\n",
    "        \"pharmacist\" : [\"薬\"],\n",
    "        \"receptionist\" : [\"受付\", \"事務\"],\n",
    "        \"security_guard\" : [\"セキュリティ\", \"警備\"],\n",
    "        \"software_engineer\" : [\"ソフトウェア\", \"エンジニア\"],\n",
    "    }"
   ]
  },
  {
   "cell_type": "code",
   "execution_count": 8,
   "metadata": {},
   "outputs": [],
   "source": [
    "## clean the sentences of Japanese job advertisements\n",
    "# set the input directory and export directory\n",
    "dataDirectory = './data/job_advertisements/ja/'\n",
    "cleanedDataDictionary = './data/job_advertisements/ja/cleaned/'\n",
    "\n",
    "occupations = list(keywords)\n",
    "for occupation in occupations:\n",
    "    # intiate the dataframe to save the cleaned sentences\n",
    "    df = pd.DataFrame(index=[], columns=['all_sentences'])\n",
    "    \n",
    "    jsonOpen = open(dataDirectory + occupation + '.json', 'r')\n",
    "    jobAdvertisements = json.load(jsonOpen)\n",
    "    getIndex = 1\n",
    "    dfIndex = 1\n",
    "    for jobAdvertisement in jobAdvertisements:\n",
    "        if jobAdvertisement.get(str(getIndex)):\n",
    "            # data cleaning \n",
    "            cleaned_title = neologdn.normalize(unicodedata.normalize(\"NFKC\", jobAdvertisement[str(getIndex)]['title'].replace('\\n', '')))\n",
    "            cleaned_summary = neologdn.normalize(unicodedata.normalize(\"NFKC\", jobAdvertisement[str(getIndex)]['description_summary'].replace('\\n', '')))\n",
    "            cleaned_detail = neologdn.normalize(unicodedata.normalize(\"NFKC\", jobAdvertisement[str(getIndex)]['description_detail'].replace('\\n', '')))\n",
    "            cleaned_desired_person = neologdn.normalize(unicodedata.normalize(\"NFKC\", jobAdvertisement[str(getIndex)]['desired_person'].replace('\\n', '')))\n",
    "            all_sentences =  cleaned_title + ' ' + cleaned_summary + ' ' + cleaned_detail + ' ' + cleaned_desired_person\n",
    "\n",
    "            # additional validation of occupation of job advertisements not to include the job advertisements for wrong occupations \n",
    "            validateFlag = False\n",
    "            for keyword in keywords.get(occupation):\n",
    "                if keyword in cleaned_title:\n",
    "                    validateFlag = True\n",
    "                    break\n",
    "            if validateFlag:\n",
    "                record = pd.DataFrame({\n",
    "                    'all_sentences': all_sentences\n",
    "                }, index=[str(dfIndex)])\n",
    "                df = pd.concat([df, record])\n",
    "                dfIndex += 1\n",
    "        getIndex += 1\n",
    "    \n",
    "    df.to_json(cleanedDataDictionary + occupation + '.json', force_ascii=False, orient = 'records')\n"
   ]
  }
 ],
 "metadata": {
  "interpreter": {
   "hash": "8d40e36e7bb790554a55ec48c8df0d607bce49ede120479d7ccb8bf89d74e1e6"
  },
  "kernelspec": {
   "display_name": "Python 3.10.0 64-bit ('3.10.0')",
   "language": "python",
   "name": "python3"
  },
  "language_info": {
   "codemirror_mode": {
    "name": "ipython",
    "version": 3
   },
   "file_extension": ".py",
   "mimetype": "text/x-python",
   "name": "python",
   "nbconvert_exporter": "python",
   "pygments_lexer": "ipython3",
   "version": "3.10.0"
  },
  "orig_nbformat": 4
 },
 "nbformat": 4,
 "nbformat_minor": 2
}
