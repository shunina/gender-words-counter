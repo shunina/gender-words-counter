{
 "cells": [
  {
   "cell_type": "code",
   "execution_count": 28,
   "id": "4bf60272",
   "metadata": {},
   "outputs": [],
   "source": [
    "import MeCab\n",
    "import json\n",
    "import re"
   ]
  },
  {
   "cell_type": "code",
   "execution_count": null,
   "id": "c7b16e95",
   "metadata": {},
   "outputs": [],
   "source": [
    "japaneseMasculineRawWordsList = open('./data/gendered_words_lists/ja/mascline_raw.json', 'r')\n",
    "japaneseMasculineRawWords = json.load(japaneseMasculineRawWordsList)\n",
    "japaneseFeminineRawWordsList = open('./data/gendered_words_lists/ja/feminine_raw.json', 'r')\n",
    "japaneseFeminineRawWords = json.load(japaneseFeminineRawWordsList)"
   ]
  },
  {
   "cell_type": "code",
   "execution_count": 68,
   "id": "b25a00f6",
   "metadata": {},
   "outputs": [
    {
     "name": "stdout",
     "output_type": "stream",
     "text": [
      "Success - dump masculine_cleaned.json\n",
      "Success - dump feminine_cleaned.json\n"
     ]
    }
   ],
   "source": [
    "tagger = MeCab.Tagger('-d /opt/homebrew/lib/mecab/dic/mecab-ipadic-neologd')\n",
    "tagger.parse('')\n",
    "\n",
    "re_hiragana = re.compile(r'^[あ-ん]+$')\n",
    "\n",
    "wordsLists = ['masculine', 'feminine']\n",
    "japaneseWordsList = []\n",
    "for wordsList in wordsLists:\n",
    "    japaneseWordsList = []\n",
    "    targetWords = japaneseMasculineRawWords if wordsList == 'masculine' else japaneseFeminineRawWords\n",
    "    for targetWord in targetWords:\n",
    "        node = tagger.parseToNode(targetWord)\n",
    "        while node:\n",
    "            #指定した品詞(category)のみ原型で抽出\n",
    "            if node.feature.split(\",\")[0] in  ['名詞', '形容詞', '動詞']:\n",
    "                if node.feature.split(\",\")[0] == '': \n",
    "                    None\n",
    "                elif len(node.feature.split(\",\")[6]) == 1: \n",
    "                    None\n",
    "                elif re_hiragana.fullmatch(node.feature.split(\",\")[6]):\n",
    "                    None\n",
    "                else: \n",
    "                    japaneseWordsList.append(node.feature.split(\",\")[6])\n",
    "            else:\n",
    "                pass\n",
    "            node = node.next  \n",
    "    japaneseWordsList = list(set(japaneseWordsList))\n",
    "    \n",
    "    # export cleaned word data into json file\n",
    "    with open('./data/gendered_words_lists/ja/' + wordsList + '_cleaned.json', mode='w', encoding='utf-8') as file:\n",
    "        json.dump(japaneseWordsList, file, ensure_ascii=False, indent=2)\n",
    "        print(\"Success - dump \" + wordsList + '_cleaned.json')\n",
    "    "
   ]
  }
 ],
 "metadata": {
  "kernelspec": {
   "display_name": "Python 3 (ipykernel)",
   "language": "python",
   "name": "python3"
  },
  "language_info": {
   "codemirror_mode": {
    "name": "ipython",
    "version": 3
   },
   "file_extension": ".py",
   "mimetype": "text/x-python",
   "name": "python",
   "nbconvert_exporter": "python",
   "pygments_lexer": "ipython3",
   "version": "3.10.0"
  }
 },
 "nbformat": 4,
 "nbformat_minor": 5
}
