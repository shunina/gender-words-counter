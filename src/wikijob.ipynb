{
 "cells": [
  {
   "cell_type": "code",
   "execution_count": 35,
   "id": "b2e2b67e",
   "metadata": {},
   "outputs": [
    {
     "name": "stdout",
     "output_type": "stream",
     "text": [
      "<Element 'description' at 0x10a5a46d0>\n"
     ]
    }
   ],
   "source": [
    "import xml.etree.ElementTree as et\n",
    "\n",
    "tree = et.ElementTree(file='./data/job_advertisements/en/wikijob.xml')\n",
    "root = tree.getroot()\n",
    "\n",
    "for job in root.iter('job'):\n",
    "    title = job[2].text.lower()\n",
    "    country = job[16].text\n",
    "    description = job[17].text.lower()\n",
    "    category = job[18].text\n",
    "    \n",
    "    occupation = \"\"\n",
    "    if country != 'United Kingdom':\n",
    "        break\n",
    "    if  \"nurse\" in title:\n",
    "        occupation = \"nurse\"\n",
    "    if  \"software\" in title and \"engineer\" in title:\n",
    "        occupation = \"software_engineer\"\n",
    "    if  \"pharmacist\" in title:\n",
    "        occupation = \"pharmacist\"\n",
    "    if  \"receptionist\" in title:\n",
    "        occupation = \"receptionist\"\n",
    "    if  \"nurse\" in title:\n",
    "        occupation = \"nurse\"\n",
    "    if  \"childminder\" in title:\n",
    "        occupation = \"childminder\"\n",
    "    if  \"beautician\" in title:\n",
    "        occupation = \"beautician\"\n",
    "    if  \"carpenter\" in title:\n",
    "        occupation = \"carpenter\"\n",
    "    if  \"driver\" in title:\n",
    "        occupation = \"driver\"\n",
    "    if  \"electrician\" in title:\n",
    "        occupation = \"electrician\"\n",
    "    if  \"electrician\" in title:\n",
    "        occupation = \"electrician\"\n",
    "    if  \"security\" in title and \"guard\" in title:\n",
    "        occupation = \"security_guard\"\n",
    "    \n",
    "    \n",
    "    \n",
    "        \n",
    "    \n",
    "    \n",
    "        \n",
    "    \n",
    "    \n",
    "    break\n",
    "    "
   ]
  },
  {
   "cell_type": "code",
   "execution_count": 12,
   "id": "d9cae79d",
   "metadata": {},
   "outputs": [
    {
     "name": "stdout",
     "output_type": "stream",
     "text": [
      "{'bozo': 1,\n",
      " 'bozo_exception': SAXParseException('syntax error'),\n",
      " 'encoding': 'us-ascii',\n",
      " 'entries': [],\n",
      " 'feed': {},\n",
      " 'headers': {...},\n",
      " 'href': 'https://www.cv-library.co.uk/cgi-bin/feed.xml?affid=104343',\n",
      " 'namespaces': {},\n",
      " 'status': 200,\n",
      " 'version': ''}\n"
     ]
    }
   ],
   "source": [
    "import pprint\n",
    "\n",
    "pprint.pprint(feed, depth=1)"
   ]
  },
  {
   "cell_type": "code",
   "execution_count": 13,
   "id": "622b357a",
   "metadata": {},
   "outputs": [
    {
     "ename": "KeyboardInterrupt",
     "evalue": "",
     "output_type": "error",
     "traceback": [
      "\u001b[0;31m---------------------------------------------------------------------------\u001b[0m",
      "\u001b[0;31mKeyboardInterrupt\u001b[0m                         Traceback (most recent call last)",
      "Input \u001b[0;32mIn [13]\u001b[0m, in \u001b[0;36m<module>\u001b[0;34m\u001b[0m\n\u001b[1;32m     10\u001b[0m rss \u001b[38;5;241m=\u001b[39m \u001b[38;5;124m'\u001b[39m\u001b[38;5;124mhttps://www.cv-library.co.uk/cgi-bin/feed.xml?affid=104343\u001b[39m\u001b[38;5;124m'\u001b[39m\n\u001b[1;32m     11\u001b[0m response \u001b[38;5;241m=\u001b[39m requests\u001b[38;5;241m.\u001b[39mget(rss)\n\u001b[0;32m---> 12\u001b[0m soup \u001b[38;5;241m=\u001b[39m \u001b[43mBeautifulSoup\u001b[49m\u001b[43m(\u001b[49m\u001b[43mresponse\u001b[49m\u001b[38;5;241;43m.\u001b[39;49m\u001b[43mcontent\u001b[49m\u001b[43m,\u001b[49m\u001b[43m \u001b[49m\u001b[38;5;124;43m\"\u001b[39;49m\u001b[38;5;124;43mhtml5lib\u001b[39;49m\u001b[38;5;124;43m\"\u001b[39;49m\u001b[43m)\u001b[49m\n\u001b[1;32m     13\u001b[0m \u001b[38;5;28mprint\u001b[39m(soup)\n",
      "File \u001b[0;32m~/.anyenv/envs/pyenv/versions/3.10.0/lib/python3.10/site-packages/bs4/__init__.py:362\u001b[0m, in \u001b[0;36mBeautifulSoup.__init__\u001b[0;34m(self, markup, features, builder, parse_only, from_encoding, exclude_encodings, element_classes, **kwargs)\u001b[0m\n\u001b[1;32m    360\u001b[0m \u001b[38;5;28mself\u001b[39m\u001b[38;5;241m.\u001b[39mreset()\n\u001b[1;32m    361\u001b[0m \u001b[38;5;28;01mtry\u001b[39;00m:\n\u001b[0;32m--> 362\u001b[0m     \u001b[38;5;28;43mself\u001b[39;49m\u001b[38;5;241;43m.\u001b[39;49m\u001b[43m_feed\u001b[49m\u001b[43m(\u001b[49m\u001b[43m)\u001b[49m\n\u001b[1;32m    363\u001b[0m     success \u001b[38;5;241m=\u001b[39m \u001b[38;5;28;01mTrue\u001b[39;00m\n\u001b[1;32m    364\u001b[0m     \u001b[38;5;28;01mbreak\u001b[39;00m\n",
      "File \u001b[0;32m~/.anyenv/envs/pyenv/versions/3.10.0/lib/python3.10/site-packages/bs4/__init__.py:448\u001b[0m, in \u001b[0;36mBeautifulSoup._feed\u001b[0;34m(self)\u001b[0m\n\u001b[1;32m    445\u001b[0m \u001b[38;5;66;03m# Convert the document to Unicode.\u001b[39;00m\n\u001b[1;32m    446\u001b[0m \u001b[38;5;28mself\u001b[39m\u001b[38;5;241m.\u001b[39mbuilder\u001b[38;5;241m.\u001b[39mreset()\n\u001b[0;32m--> 448\u001b[0m \u001b[38;5;28;43mself\u001b[39;49m\u001b[38;5;241;43m.\u001b[39;49m\u001b[43mbuilder\u001b[49m\u001b[38;5;241;43m.\u001b[39;49m\u001b[43mfeed\u001b[49m\u001b[43m(\u001b[49m\u001b[38;5;28;43mself\u001b[39;49m\u001b[38;5;241;43m.\u001b[39;49m\u001b[43mmarkup\u001b[49m\u001b[43m)\u001b[49m\n\u001b[1;32m    449\u001b[0m \u001b[38;5;66;03m# Close out any unfinished strings and close all the open tags.\u001b[39;00m\n\u001b[1;32m    450\u001b[0m \u001b[38;5;28mself\u001b[39m\u001b[38;5;241m.\u001b[39mendData()\n",
      "File \u001b[0;32m~/.anyenv/envs/pyenv/versions/3.10.0/lib/python3.10/site-packages/bs4/builder/_html5lib.py:87\u001b[0m, in \u001b[0;36mHTML5TreeBuilder.feed\u001b[0;34m(self, markup)\u001b[0m\n\u001b[1;32m     85\u001b[0m     \u001b[38;5;28;01melse\u001b[39;00m:\n\u001b[1;32m     86\u001b[0m         extra_kwargs[\u001b[38;5;124m'\u001b[39m\u001b[38;5;124mencoding\u001b[39m\u001b[38;5;124m'\u001b[39m] \u001b[38;5;241m=\u001b[39m \u001b[38;5;28mself\u001b[39m\u001b[38;5;241m.\u001b[39muser_specified_encoding\n\u001b[0;32m---> 87\u001b[0m doc \u001b[38;5;241m=\u001b[39m \u001b[43mparser\u001b[49m\u001b[38;5;241;43m.\u001b[39;49m\u001b[43mparse\u001b[49m\u001b[43m(\u001b[49m\u001b[43mmarkup\u001b[49m\u001b[43m,\u001b[49m\u001b[43m \u001b[49m\u001b[38;5;241;43m*\u001b[39;49m\u001b[38;5;241;43m*\u001b[39;49m\u001b[43mextra_kwargs\u001b[49m\u001b[43m)\u001b[49m\n\u001b[1;32m     89\u001b[0m \u001b[38;5;66;03m# Set the character encoding detected by the tokenizer.\u001b[39;00m\n\u001b[1;32m     90\u001b[0m \u001b[38;5;28;01mif\u001b[39;00m \u001b[38;5;28misinstance\u001b[39m(markup, \u001b[38;5;28mstr\u001b[39m):\n\u001b[1;32m     91\u001b[0m     \u001b[38;5;66;03m# We need to special-case this because html5lib sets\u001b[39;00m\n\u001b[1;32m     92\u001b[0m     \u001b[38;5;66;03m# charEncoding to UTF-8 if it gets Unicode input.\u001b[39;00m\n",
      "File \u001b[0;32m~/.anyenv/envs/pyenv/versions/3.10.0/lib/python3.10/site-packages/html5lib/html5parser.py:284\u001b[0m, in \u001b[0;36mHTMLParser.parse\u001b[0;34m(self, stream, *args, **kwargs)\u001b[0m\n\u001b[1;32m    262\u001b[0m \u001b[38;5;28;01mdef\u001b[39;00m \u001b[38;5;21mparse\u001b[39m(\u001b[38;5;28mself\u001b[39m, stream, \u001b[38;5;241m*\u001b[39margs, \u001b[38;5;241m*\u001b[39m\u001b[38;5;241m*\u001b[39mkwargs):\n\u001b[1;32m    263\u001b[0m     \u001b[38;5;124;03m\"\"\"Parse a HTML document into a well-formed tree\u001b[39;00m\n\u001b[1;32m    264\u001b[0m \n\u001b[1;32m    265\u001b[0m \u001b[38;5;124;03m    :arg stream: a file-like object or string containing the HTML to be parsed\u001b[39;00m\n\u001b[0;32m   (...)\u001b[0m\n\u001b[1;32m    282\u001b[0m \n\u001b[1;32m    283\u001b[0m \u001b[38;5;124;03m    \"\"\"\u001b[39;00m\n\u001b[0;32m--> 284\u001b[0m     \u001b[38;5;28;43mself\u001b[39;49m\u001b[38;5;241;43m.\u001b[39;49m\u001b[43m_parse\u001b[49m\u001b[43m(\u001b[49m\u001b[43mstream\u001b[49m\u001b[43m,\u001b[49m\u001b[43m \u001b[49m\u001b[38;5;28;43;01mFalse\u001b[39;49;00m\u001b[43m,\u001b[49m\u001b[43m \u001b[49m\u001b[38;5;28;43;01mNone\u001b[39;49;00m\u001b[43m,\u001b[49m\u001b[43m \u001b[49m\u001b[38;5;241;43m*\u001b[39;49m\u001b[43margs\u001b[49m\u001b[43m,\u001b[49m\u001b[43m \u001b[49m\u001b[38;5;241;43m*\u001b[39;49m\u001b[38;5;241;43m*\u001b[39;49m\u001b[43mkwargs\u001b[49m\u001b[43m)\u001b[49m\n\u001b[1;32m    285\u001b[0m     \u001b[38;5;28;01mreturn\u001b[39;00m \u001b[38;5;28mself\u001b[39m\u001b[38;5;241m.\u001b[39mtree\u001b[38;5;241m.\u001b[39mgetDocument()\n",
      "File \u001b[0;32m~/.anyenv/envs/pyenv/versions/3.10.0/lib/python3.10/site-packages/html5lib/html5parser.py:133\u001b[0m, in \u001b[0;36mHTMLParser._parse\u001b[0;34m(self, stream, innerHTML, container, scripting, **kwargs)\u001b[0m\n\u001b[1;32m    130\u001b[0m \u001b[38;5;28mself\u001b[39m\u001b[38;5;241m.\u001b[39mreset()\n\u001b[1;32m    132\u001b[0m \u001b[38;5;28;01mtry\u001b[39;00m:\n\u001b[0;32m--> 133\u001b[0m     \u001b[38;5;28;43mself\u001b[39;49m\u001b[38;5;241;43m.\u001b[39;49m\u001b[43mmainLoop\u001b[49m\u001b[43m(\u001b[49m\u001b[43m)\u001b[49m\n\u001b[1;32m    134\u001b[0m \u001b[38;5;28;01mexcept\u001b[39;00m _ReparseException:\n\u001b[1;32m    135\u001b[0m     \u001b[38;5;28mself\u001b[39m\u001b[38;5;241m.\u001b[39mreset()\n",
      "File \u001b[0;32m~/.anyenv/envs/pyenv/versions/3.10.0/lib/python3.10/site-packages/html5lib/html5parser.py:240\u001b[0m, in \u001b[0;36mHTMLParser.mainLoop\u001b[0;34m(self)\u001b[0m\n\u001b[1;32m    238\u001b[0m     new_token \u001b[38;5;241m=\u001b[39m phase\u001b[38;5;241m.\u001b[39mprocessSpaceCharacters(new_token)\n\u001b[1;32m    239\u001b[0m \u001b[38;5;28;01melif\u001b[39;00m \u001b[38;5;28mtype\u001b[39m \u001b[38;5;241m==\u001b[39m StartTagToken:\n\u001b[0;32m--> 240\u001b[0m     new_token \u001b[38;5;241m=\u001b[39m \u001b[43mphase\u001b[49m\u001b[38;5;241;43m.\u001b[39;49m\u001b[43mprocessStartTag\u001b[49m\u001b[43m(\u001b[49m\u001b[43mnew_token\u001b[49m\u001b[43m)\u001b[49m\n\u001b[1;32m    241\u001b[0m \u001b[38;5;28;01melif\u001b[39;00m \u001b[38;5;28mtype\u001b[39m \u001b[38;5;241m==\u001b[39m EndTagToken:\n\u001b[1;32m    242\u001b[0m     new_token \u001b[38;5;241m=\u001b[39m phase\u001b[38;5;241m.\u001b[39mprocessEndTag(new_token)\n",
      "File \u001b[0;32m~/.anyenv/envs/pyenv/versions/3.10.0/lib/python3.10/site-packages/html5lib/html5parser.py:469\u001b[0m, in \u001b[0;36mgetPhases.<locals>.Phase.processStartTag\u001b[0;34m(self, token)\u001b[0m\n\u001b[1;32m    466\u001b[0m     \u001b[38;5;28;01mwhile\u001b[39;00m \u001b[38;5;28mlen\u001b[39m(\u001b[38;5;28mself\u001b[39m\u001b[38;5;241m.\u001b[39m__startTagCache) \u001b[38;5;241m>\u001b[39m \u001b[38;5;28mlen\u001b[39m(\u001b[38;5;28mself\u001b[39m\u001b[38;5;241m.\u001b[39mstartTagHandler) \u001b[38;5;241m*\u001b[39m \u001b[38;5;241m1.1\u001b[39m:\n\u001b[1;32m    467\u001b[0m         \u001b[38;5;66;03m# this makes the eviction policy random on Py < 3.7 and FIFO >= 3.7\u001b[39;00m\n\u001b[1;32m    468\u001b[0m         \u001b[38;5;28mself\u001b[39m\u001b[38;5;241m.\u001b[39m__startTagCache\u001b[38;5;241m.\u001b[39mpop(\u001b[38;5;28mnext\u001b[39m(\u001b[38;5;28miter\u001b[39m(\u001b[38;5;28mself\u001b[39m\u001b[38;5;241m.\u001b[39m__startTagCache)))\n\u001b[0;32m--> 469\u001b[0m \u001b[38;5;28;01mreturn\u001b[39;00m \u001b[43mfunc\u001b[49m\u001b[43m(\u001b[49m\u001b[43mtoken\u001b[49m\u001b[43m)\u001b[49m\n",
      "File \u001b[0;32m~/.anyenv/envs/pyenv/versions/3.10.0/lib/python3.10/site-packages/html5lib/html5parser.py:1306\u001b[0m, in \u001b[0;36mgetPhases.<locals>.InBodyPhase.startTagOther\u001b[0;34m(self, token)\u001b[0m\n\u001b[1;32m   1304\u001b[0m \u001b[38;5;28;01mdef\u001b[39;00m \u001b[38;5;21mstartTagOther\u001b[39m(\u001b[38;5;28mself\u001b[39m, token):\n\u001b[1;32m   1305\u001b[0m     \u001b[38;5;28mself\u001b[39m\u001b[38;5;241m.\u001b[39mtree\u001b[38;5;241m.\u001b[39mreconstructActiveFormattingElements()\n\u001b[0;32m-> 1306\u001b[0m     \u001b[38;5;28;43mself\u001b[39;49m\u001b[38;5;241;43m.\u001b[39;49m\u001b[43mtree\u001b[49m\u001b[38;5;241;43m.\u001b[39;49m\u001b[43minsertElement\u001b[49m\u001b[43m(\u001b[49m\u001b[43mtoken\u001b[49m\u001b[43m)\u001b[49m\n",
      "File \u001b[0;32m~/.anyenv/envs/pyenv/versions/3.10.0/lib/python3.10/site-packages/html5lib/treebuilders/base.py:327\u001b[0m, in \u001b[0;36mTreeBuilder.insertElementNormal\u001b[0;34m(self, token)\u001b[0m\n\u001b[1;32m    325\u001b[0m \u001b[38;5;28;01massert\u001b[39;00m \u001b[38;5;28misinstance\u001b[39m(name, text_type), \u001b[38;5;124m\"\u001b[39m\u001b[38;5;124mElement \u001b[39m\u001b[38;5;132;01m%s\u001b[39;00m\u001b[38;5;124m not unicode\u001b[39m\u001b[38;5;124m\"\u001b[39m \u001b[38;5;241m%\u001b[39m name\n\u001b[1;32m    326\u001b[0m namespace \u001b[38;5;241m=\u001b[39m token\u001b[38;5;241m.\u001b[39mget(\u001b[38;5;124m\"\u001b[39m\u001b[38;5;124mnamespace\u001b[39m\u001b[38;5;124m\"\u001b[39m, \u001b[38;5;28mself\u001b[39m\u001b[38;5;241m.\u001b[39mdefaultNamespace)\n\u001b[0;32m--> 327\u001b[0m element \u001b[38;5;241m=\u001b[39m \u001b[38;5;28;43mself\u001b[39;49m\u001b[38;5;241;43m.\u001b[39;49m\u001b[43melementClass\u001b[49m\u001b[43m(\u001b[49m\u001b[43mname\u001b[49m\u001b[43m,\u001b[49m\u001b[43m \u001b[49m\u001b[43mnamespace\u001b[49m\u001b[43m)\u001b[49m\n\u001b[1;32m    328\u001b[0m element\u001b[38;5;241m.\u001b[39mattributes \u001b[38;5;241m=\u001b[39m token[\u001b[38;5;124m\"\u001b[39m\u001b[38;5;124mdata\u001b[39m\u001b[38;5;124m\"\u001b[39m]\n\u001b[1;32m    329\u001b[0m \u001b[38;5;28mself\u001b[39m\u001b[38;5;241m.\u001b[39mopenElements[\u001b[38;5;241m-\u001b[39m\u001b[38;5;241m1\u001b[39m]\u001b[38;5;241m.\u001b[39mappendChild(element)\n",
      "File \u001b[0;32m~/.anyenv/envs/pyenv/versions/3.10.0/lib/python3.10/site-packages/bs4/builder/_html5lib.py:158\u001b[0m, in \u001b[0;36mTreeBuilderForHtml5lib.elementClass\u001b[0;34m(self, name, namespace)\u001b[0m\n\u001b[1;32m    153\u001b[0m kwargs \u001b[38;5;241m=\u001b[39m {}\n\u001b[1;32m    154\u001b[0m \u001b[38;5;28;01mif\u001b[39;00m \u001b[38;5;28mself\u001b[39m\u001b[38;5;241m.\u001b[39mparser \u001b[38;5;129;01mand\u001b[39;00m \u001b[38;5;28mself\u001b[39m\u001b[38;5;241m.\u001b[39mstore_line_numbers:\n\u001b[1;32m    155\u001b[0m     \u001b[38;5;66;03m# This represents the point immediately after the end of the\u001b[39;00m\n\u001b[1;32m    156\u001b[0m     \u001b[38;5;66;03m# tag. We don't know when the tag started, but we do know\u001b[39;00m\n\u001b[1;32m    157\u001b[0m     \u001b[38;5;66;03m# where it ended -- the character just before this one.\u001b[39;00m\n\u001b[0;32m--> 158\u001b[0m     sourceline, sourcepos \u001b[38;5;241m=\u001b[39m \u001b[38;5;28;43mself\u001b[39;49m\u001b[38;5;241;43m.\u001b[39;49m\u001b[43mparser\u001b[49m\u001b[38;5;241;43m.\u001b[39;49m\u001b[43mtokenizer\u001b[49m\u001b[38;5;241;43m.\u001b[39;49m\u001b[43mstream\u001b[49m\u001b[38;5;241;43m.\u001b[39;49m\u001b[43mposition\u001b[49m\u001b[43m(\u001b[49m\u001b[43m)\u001b[49m\n\u001b[1;32m    159\u001b[0m     kwargs[\u001b[38;5;124m'\u001b[39m\u001b[38;5;124msourceline\u001b[39m\u001b[38;5;124m'\u001b[39m] \u001b[38;5;241m=\u001b[39m sourceline\n\u001b[1;32m    160\u001b[0m     kwargs[\u001b[38;5;124m'\u001b[39m\u001b[38;5;124msourcepos\u001b[39m\u001b[38;5;124m'\u001b[39m] \u001b[38;5;241m=\u001b[39m sourcepos\u001b[38;5;241m-\u001b[39m\u001b[38;5;241m1\u001b[39m\n",
      "File \u001b[0;32m~/.anyenv/envs/pyenv/versions/3.10.0/lib/python3.10/site-packages/html5lib/_inputstream.py:231\u001b[0m, in \u001b[0;36mHTMLUnicodeInputStream.position\u001b[0;34m(self)\u001b[0m\n\u001b[1;32m    229\u001b[0m \u001b[38;5;28;01mdef\u001b[39;00m \u001b[38;5;21mposition\u001b[39m(\u001b[38;5;28mself\u001b[39m):\n\u001b[1;32m    230\u001b[0m     \u001b[38;5;124;03m\"\"\"Returns (line, col) of the current position in the stream.\"\"\"\u001b[39;00m\n\u001b[0;32m--> 231\u001b[0m     line, col \u001b[38;5;241m=\u001b[39m \u001b[38;5;28;43mself\u001b[39;49m\u001b[38;5;241;43m.\u001b[39;49m\u001b[43m_position\u001b[49m\u001b[43m(\u001b[49m\u001b[38;5;28;43mself\u001b[39;49m\u001b[38;5;241;43m.\u001b[39;49m\u001b[43mchunkOffset\u001b[49m\u001b[43m)\u001b[49m\n\u001b[1;32m    232\u001b[0m     \u001b[38;5;28;01mreturn\u001b[39;00m (line \u001b[38;5;241m+\u001b[39m \u001b[38;5;241m1\u001b[39m, col)\n",
      "File \u001b[0;32m~/.anyenv/envs/pyenv/versions/3.10.0/lib/python3.10/site-packages/html5lib/_inputstream.py:220\u001b[0m, in \u001b[0;36mHTMLUnicodeInputStream._position\u001b[0;34m(self, offset)\u001b[0m\n\u001b[1;32m    218\u001b[0m \u001b[38;5;28;01mdef\u001b[39;00m \u001b[38;5;21m_position\u001b[39m(\u001b[38;5;28mself\u001b[39m, offset):\n\u001b[1;32m    219\u001b[0m     chunk \u001b[38;5;241m=\u001b[39m \u001b[38;5;28mself\u001b[39m\u001b[38;5;241m.\u001b[39mchunk\n\u001b[0;32m--> 220\u001b[0m     nLines \u001b[38;5;241m=\u001b[39m \u001b[43mchunk\u001b[49m\u001b[38;5;241;43m.\u001b[39;49m\u001b[43mcount\u001b[49m\u001b[43m(\u001b[49m\u001b[38;5;124;43m'\u001b[39;49m\u001b[38;5;130;43;01m\\n\u001b[39;49;00m\u001b[38;5;124;43m'\u001b[39;49m\u001b[43m,\u001b[49m\u001b[43m \u001b[49m\u001b[38;5;241;43m0\u001b[39;49m\u001b[43m,\u001b[49m\u001b[43m \u001b[49m\u001b[43moffset\u001b[49m\u001b[43m)\u001b[49m\n\u001b[1;32m    221\u001b[0m     positionLine \u001b[38;5;241m=\u001b[39m \u001b[38;5;28mself\u001b[39m\u001b[38;5;241m.\u001b[39mprevNumLines \u001b[38;5;241m+\u001b[39m nLines\n\u001b[1;32m    222\u001b[0m     lastLinePos \u001b[38;5;241m=\u001b[39m chunk\u001b[38;5;241m.\u001b[39mrfind(\u001b[38;5;124m'\u001b[39m\u001b[38;5;130;01m\\n\u001b[39;00m\u001b[38;5;124m'\u001b[39m, \u001b[38;5;241m0\u001b[39m, offset)\n",
      "\u001b[0;31mKeyboardInterrupt\u001b[0m: "
     ]
    }
   ],
   "source": [
    "import requests\n",
    "from requests.exceptions import ConnectionError\n",
    "from http.client import RemoteDisconnected\n",
    "from bs4 import BeautifulSoup\n",
    "import time\n",
    "import html5lib\n",
    "import json\n",
    "import random\n",
    "\n",
    "rss = 'https://www.cv-library.co.uk/cgi-bin/feed.xml?affid=104343'\n",
    "response = requests.get(rss)\n",
    "soup = BeautifulSoup(response.content, \"html5lib\")\n",
    "print(soup)\n"
   ]
  },
  {
   "cell_type": "code",
   "execution_count": 10,
   "id": "a5e6e912",
   "metadata": {},
   "outputs": [
    {
     "name": "stdout",
     "output_type": "stream",
     "text": [
      "[]\n"
     ]
    }
   ],
   "source": [
    "import pprint\n",
    "print(xmlFeed[\"entries\"])"
   ]
  }
 ],
 "metadata": {
  "kernelspec": {
   "display_name": "Python 3 (ipykernel)",
   "language": "python",
   "name": "python3"
  },
  "language_info": {
   "codemirror_mode": {
    "name": "ipython",
    "version": 3
   },
   "file_extension": ".py",
   "mimetype": "text/x-python",
   "name": "python",
   "nbconvert_exporter": "python",
   "pygments_lexer": "ipython3",
   "version": "3.10.0"
  }
 },
 "nbformat": 4,
 "nbformat_minor": 5
}
