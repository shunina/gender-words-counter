{
 "cells": [
  {
   "cell_type": "code",
   "execution_count": 2,
   "id": "b2e2b67e",
   "metadata": {},
   "outputs": [
    {
     "name": "stdout",
     "output_type": "stream",
     "text": [
      "{'bozo': False, 'entries': [], 'feed': {'tags': [{'term': 'Accounting/Financial/Insurance', 'scheme': None, 'label': None}, {'term': 'Agriculture', 'scheme': None, 'label': None}, {'term': 'Other', 'scheme': None, 'label': None}, {'term': 'Engineering', 'scheme': None, 'label': None}, {'term': 'Education', 'scheme': None, 'label': None}, {'term': 'IT', 'scheme': None, 'label': None}, {'term': 'Consulting', 'scheme': None, 'label': None}, {'term': 'Manufacturing/Surveying', 'scheme': None, 'label': None}, {'term': 'Sales', 'scheme': None, 'label': None}, {'term': 'Media', 'scheme': None, 'label': None}, {'term': 'Property Services', 'scheme': None, 'label': None}, {'term': 'Construction', 'scheme': None, 'label': None}, {'term': 'Social Care', 'scheme': None, 'label': None}, {'term': 'Distribution', 'scheme': None, 'label': None}, {'term': 'Personnel/Recruitment', 'scheme': None, 'label': None}, {'term': 'Hospitality/Hotel', 'scheme': None, 'label': None}, {'term': 'Catering', 'scheme': None, 'label': None}, {'term': 'Electronics', 'scheme': None, 'label': None}, {'term': 'Arts/Graphic Design', 'scheme': None, 'label': None}, {'term': 'Automotive/Aerospace', 'scheme': None, 'label': None}, {'term': 'Legal', 'scheme': None, 'label': None}, {'term': 'Telecoms', 'scheme': None, 'label': None}, {'term': 'Medical/Pharmaceutical/Scientific', 'scheme': None, 'label': None}, {'term': 'Marketing', 'scheme': None, 'label': None}, {'term': 'Administration', 'scheme': None, 'label': None}, {'term': 'Retail/Purchasing', 'scheme': None, 'label': None}, {'term': 'Customer Services', 'scheme': None, 'label': None}, {'term': 'Charity', 'scheme': None, 'label': None}, {'term': 'Public Sector', 'scheme': None, 'label': None}, {'term': 'Management', 'scheme': None, 'label': None}, {'term': 'Military/Emergency/Government', 'scheme': None, 'label': None}, {'term': 'Leisure/Tourism', 'scheme': None, 'label': None}], 'image': {}}, 'headers': {'server': 'nginx', 'date': 'Sun, 23 Jan 2022 07:21:22 GMT', 'content-type': 'text/xml; charset=UTF-8', 'transfer-encoding': 'chunked', 'connection': 'close', 'x-datadome': 'protected', 'set-cookie': 'session=1642922474.77506%3ABQsDAAAAAA%3D%3D%3A991145cf3c65c2e16fe7eed48adf30d7f869f4bc; path=/; secure; HttpOnly', 'x-robots-tag': 'noindex,nofollow', 'x-upstream': 'www-5'}, 'href': 'https://www.cv-library.co.uk/cgi-bin/feed.xml?affid=104343', 'status': 200, 'encoding': 'UTF-8', 'version': '', 'namespaces': {}}\n"
     ]
    }
   ],
   "source": [
    "import feedparser\n",
    "import xml.etree.ElementTree as ET\n",
    "\n",
    "xmlFeed = feedparser.parse('https://www.cv-library.co.uk/cgi-bin/feed.xml?affid=104343')\n",
    "print(xmlFeed.update)\n",
    "# tree = ET.parse(xmlFeed)\n",
    "# root = tree.getroot()\n",
    "\n"
   ]
  },
  {
   "cell_type": "code",
   "execution_count": null,
   "id": "81ffe48d",
   "metadata": {},
   "outputs": [],
   "source": [
    "import feedparser\n",
    "import ssl\n",
    "if hasattr(ssl, '_create_unverified_context'):\n",
    "    ssl._create_default_https_context = ssl._create_unverified_context\n",
    "rss = 'https://www.cv-library.co.uk/cgi-bin/feed.xml?affid=104343'\n",
    "feed = feedparser.parse(rss)\n",
    "\n",
    "print(feed)"
   ]
  },
  {
   "cell_type": "code",
   "execution_count": null,
   "id": "7149ae2e",
   "metadata": {},
   "outputs": [],
   "source": [
    "import urllib3\n",
    "import feedparser\n",
    "\n",
    "url = 'https://www.cv-library.co.uk/cgi-bin/feed.xml?affid=104343'\n",
    "response = urllib3.urlopen(url).read()\n",
    "\n",
    "print(response)\n",
    "\n",
    "d = feedparser.parse(response)\n",
    "for item in d.entries:\n",
    "    print (\"------\")\n",
    "    print (item.title)\n",
    "    if 'subtitle' in item:\n",
    "        print (item.subtitle)\n",
    "    print (item.link)\n",
    "    print (item.description)\n",
    "    print (item.published)\n",
    "    print (item.id)\n",
    "    print (item.updated)\n",
    "    if 'content' in item:\n",
    "        print (item.content)"
   ]
  },
  {
   "cell_type": "code",
   "execution_count": 10,
   "id": "a5e6e912",
   "metadata": {},
   "outputs": [
    {
     "name": "stdout",
     "output_type": "stream",
     "text": [
      "[]\n"
     ]
    }
   ],
   "source": [
    "import pprint\n",
    "print(xmlFeed[\"entries\"])"
   ]
  },
  {
   "cell_type": "code",
   "execution_count": 4,
   "id": "a8f8d2b3",
   "metadata": {},
   "outputs": [
    {
     "name": "stdout",
     "output_type": "stream",
     "text": [
      "<class 'feedparser.util.FeedParserDict'>\n"
     ]
    }
   ],
   "source": [
    "print(type(d_atom))"
   ]
  },
  {
   "cell_type": "code",
   "execution_count": 13,
   "id": "50ab2300",
   "metadata": {},
   "outputs": [
    {
     "name": "stdout",
     "output_type": "stream",
     "text": [
      "{'bozo': False,\n",
      " 'encoding': 'UTF-8',\n",
      " 'entries': [],\n",
      " 'feed': {...},\n",
      " 'headers': {...},\n",
      " 'href': 'https://www.cv-library.co.uk/cgi-bin/feed.xml?affid=104343',\n",
      " 'namespaces': {},\n",
      " 'status': 200,\n",
      " 'version': ''}\n"
     ]
    }
   ],
   "source": [
    "import pprint\n",
    "pprint.pprint(d_atom, depth=1)"
   ]
  },
  {
   "cell_type": "code",
   "execution_count": 15,
   "id": "4bf60272",
   "metadata": {},
   "outputs": [
    {
     "name": "stdout",
     "output_type": "stream",
     "text": [
      "{'image': {},\n",
      " 'tags': [{'label': None,\n",
      "           'scheme': None,\n",
      "           'term': 'Accounting/Financial/Insurance'},\n",
      "          {'label': None, 'scheme': None, 'term': 'Agriculture'},\n",
      "          {'label': None, 'scheme': None, 'term': 'Consulting'},\n",
      "          {'label': None, 'scheme': None, 'term': 'Engineering'},\n",
      "          {'label': None, 'scheme': None, 'term': 'Education'},\n",
      "          {'label': None, 'scheme': None, 'term': 'Other'},\n",
      "          {'label': None, 'scheme': None, 'term': 'Manufacturing/Surveying'},\n",
      "          {'label': None, 'scheme': None, 'term': 'Construction'},\n",
      "          {'label': None, 'scheme': None, 'term': 'Marketing'},\n",
      "          {'label': None, 'scheme': None, 'term': 'Social Care'},\n",
      "          {'label': None, 'scheme': None, 'term': 'Distribution'},\n",
      "          {'label': None, 'scheme': None, 'term': 'Hospitality/Hotel'},\n",
      "          {'label': None, 'scheme': None, 'term': 'Personnel/Recruitment'},\n",
      "          {'label': None, 'scheme': None, 'term': 'Arts/Graphic Design'},\n",
      "          {'label': None, 'scheme': None, 'term': 'Management'},\n",
      "          {'label': None, 'scheme': None, 'term': 'Sales'},\n",
      "          {'label': None, 'scheme': None, 'term': 'IT'},\n",
      "          {'label': None, 'scheme': None, 'term': 'Catering'},\n",
      "          {'label': None, 'scheme': None, 'term': 'Electronics'},\n",
      "          {'label': None,\n",
      "           'scheme': None,\n",
      "           'term': 'Medical/Pharmaceutical/Scientific'},\n",
      "          {'label': None, 'scheme': None, 'term': 'Customer Services'},\n",
      "          {'label': None, 'scheme': None, 'term': 'Automotive/Aerospace'},\n",
      "          {'label': None, 'scheme': None, 'term': 'Telecoms'},\n",
      "          {'label': None, 'scheme': None, 'term': 'Legal'},\n",
      "          {'label': None, 'scheme': None, 'term': 'Retail/Purchasing'},\n",
      "          {'label': None, 'scheme': None, 'term': 'Administration'},\n",
      "          {'label': None, 'scheme': None, 'term': 'Public Sector'},\n",
      "          {'label': None,\n",
      "           'scheme': None,\n",
      "           'term': 'Military/Emergency/Government'},\n",
      "          {'label': None, 'scheme': None, 'term': 'Property Services'},\n",
      "          {'label': None, 'scheme': None, 'term': 'Charity'},\n",
      "          {'label': None, 'scheme': None, 'term': 'Media'},\n",
      "          {'label': None, 'scheme': None, 'term': 'Leisure/Tourism'}]}\n"
     ]
    }
   ],
   "source": [
    "pprint.pprint(d_atom['feed'])"
   ]
  }
 ],
 "metadata": {
  "kernelspec": {
   "display_name": "Python 3 (ipykernel)",
   "language": "python",
   "name": "python3"
  },
  "language_info": {
   "codemirror_mode": {
    "name": "ipython",
    "version": 3
   },
   "file_extension": ".py",
   "mimetype": "text/x-python",
   "name": "python",
   "nbconvert_exporter": "python",
   "pygments_lexer": "ipython3",
   "version": "3.10.0"
  }
 },
 "nbformat": 4,
 "nbformat_minor": 5
}
