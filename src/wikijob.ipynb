{
 "cells": [
  {
   "cell_type": "code",
   "execution_count": null,
   "id": "b2e2b67e",
   "metadata": {},
   "outputs": [],
   "source": [
    "import xml.etree.ElementTree as et\n",
    "import json\n",
    "\n",
    "tree = et.ElementTree(file='./data/job_advertisements/en/wikijob/wikijob.xml')\n",
    "root = tree.getroot()\n",
    "\n",
    "data = []\n",
    "index = 1\n",
    "for job in root.iter('job'):\n",
    "    title = job[2].text.lower()\n",
    "    country = job[16].text\n",
    "    description = job[17].text.lower()\n",
    "    category = job[18].text\n",
    "    \n",
    "    occupation = \"\"\n",
    "    if country != 'United Kingdom':\n",
    "        break\n",
    "    if  \"nurse\" in title:\n",
    "        occupation = \"nurse\"\n",
    "    elif  \"software\" in title and \"engineer\" in title:\n",
    "        occupation = \"software_engineer\"\n",
    "    elif  \"pharmacist\" in title:\n",
    "        occupation = \"pharmacist\"\n",
    "    elif  \"receptionist\" in title:\n",
    "        occupation = \"receptionist\"\n",
    "    elif  \"nurse\" in title:\n",
    "        occupation = \"nurse\"\n",
    "    elif  \"childminder\" in title:\n",
    "        occupation = \"childminder\"\n",
    "    elif  \"beautician\" in title:\n",
    "        occupation = \"beautician\"\n",
    "    elif  \"carpenter\" in title:\n",
    "        occupation = \"carpenter\"\n",
    "    elif  \"driver\" in title:\n",
    "        occupation = \"driver\"\n",
    "    elif  \"electrician\" in title:\n",
    "        occupation = \"electrician\"\n",
    "    elif  \"electrician\" in title:\n",
    "        occupation = \"electrician\"\n",
    "    elif  \"security\" in title and \"guard\" in title:\n",
    "        occupation = \"security_guard\"\n",
    "    if  occupation != \"\":\n",
    "        data.append({str(index) : {'title': title, 'description': description, 'occupation': occupation}})\n",
    "        index += 1\n",
    "        \n",
    "# export data into json file\n",
    "with open('./data/job_advertisements/en/wikijob/wikijob.json', mode='w', encoding='utf-8') as file:\n",
    "    json.dump(data, file, ensure_ascii=False, indent=2)\n",
    "    print('Success - dump job_advertisements.json')"
   ]
  }
 ],
 "metadata": {
  "kernelspec": {
   "display_name": "Python 3 (ipykernel)",
   "language": "python",
   "name": "python3"
  },
  "language_info": {
   "codemirror_mode": {
    "name": "ipython",
    "version": 3
   },
   "file_extension": ".py",
   "mimetype": "text/x-python",
   "name": "python",
   "nbconvert_exporter": "python",
   "pygments_lexer": "ipython3",
   "version": "3.10.0"
  }
 },
 "nbformat": 4,
 "nbformat_minor": 5
}
